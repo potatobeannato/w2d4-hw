{
 "cells": [
  {
   "cell_type": "markdown",
   "metadata": {},
   "source": [
    "# Object-Oriented-Programming (OOP)"
   ]
  },
  {
   "cell_type": "markdown",
   "metadata": {},
   "source": [
    "## Tasks Today:\n",
    "\n",
    "   \n",
    "\n",
    "1) <b>Creating a Class (Initializing/Declaring)</b> <br>\n",
    "2) <b>Using a Class (Instantiating)</b> <br>\n",
    " &nbsp;&nbsp;&nbsp;&nbsp; a) Creating One Instance <br>\n",
    " &nbsp;&nbsp;&nbsp;&nbsp; b) Creating Multiple Instances <br>\n",
    " &nbsp;&nbsp;&nbsp;&nbsp; c) In-Class Exercise #1 - Create a Class 'Car' and instantiate three different makes of cars <br>\n",
    "3) <b>The \\__init\\__() Method</b> <br>\n",
    " &nbsp;&nbsp;&nbsp;&nbsp; a) The 'self' Attribute <br>\n",
    "4) <b>Class Attributes</b> <br>\n",
    " &nbsp;&nbsp;&nbsp;&nbsp; a) Initializing Attributes <br>\n",
    " &nbsp;&nbsp;&nbsp;&nbsp; b) Setting an Attribute Outside of the \\__init\\__() Method <br>\n",
    " &nbsp;&nbsp;&nbsp;&nbsp; c) Setting Defaults for Attributes <br>\n",
    " &nbsp;&nbsp;&nbsp;&nbsp; d) Accessing Class Attributes <br>\n",
    " &nbsp;&nbsp;&nbsp;&nbsp; e) Changing Class Attributes <br>\n",
    " &nbsp;&nbsp;&nbsp;&nbsp; f) In-Class Exercise #2 - Add a color and wheels attribute to your 'Car' class <br>\n",
    "5) <b>Class Methods</b> <br>\n",
    " &nbsp;&nbsp;&nbsp;&nbsp; a) Creating <br>\n",
    " &nbsp;&nbsp;&nbsp;&nbsp; b) Calling <br>\n",
    " &nbsp;&nbsp;&nbsp;&nbsp; c) Modifying an Attribute's Value Through a Method <br>\n",
    " &nbsp;&nbsp;&nbsp;&nbsp; d) Incrementing an Attribute's Value Through a Method <br>\n",
    " &nbsp;&nbsp;&nbsp;&nbsp; e) In-Class Exercise #3 - Add a method that prints the cars color and wheel number, then call them <br>\n",
    "6) <b>Inheritance</b> <br>\n",
    " &nbsp;&nbsp;&nbsp;&nbsp; a) Syntax for Inheriting from a Parent Class <br>\n",
    " &nbsp;&nbsp;&nbsp;&nbsp; b) The \\__init\\__() Method for a Child Class (super()) <br>\n",
    " &nbsp;&nbsp;&nbsp;&nbsp; c) Defining Attributes and Methods for the Child Class <br>\n",
    " &nbsp;&nbsp;&nbsp;&nbsp; d) Method Overriding <br>\n",
    " &nbsp;&nbsp;&nbsp;&nbsp; e) In-Class Exercise #4 - Create a class 'Ford' that inherits from 'Car' class and initialize it as a Blue Ford Explorer with 4 wheels using the super() method <br>\n",
    "7) <b>Classes as Attributes</b> <br>\n",
    "8) <b>Exercises</b> <br>\n",
    " &nbsp;&nbsp;&nbsp;&nbsp; a) Exercise #1 - Turn the shopping cart program from yesterday into an object-oriented program <br>"
   ]
  },
  {
   "cell_type": "code",
   "execution_count": 6,
   "metadata": {},
   "outputs": [
    {
     "name": "stdout",
     "output_type": "stream",
     "text": [
      "1\n",
      "2\n",
      "Fizz\n",
      "4\n",
      "FizzBuzz\n",
      "Fizz\n",
      "7\n",
      "8\n",
      "Fizz\n",
      "FizzBuzz\n",
      "11\n",
      "Fizz\n",
      "13\n",
      "14\n",
      "Fizz\n",
      "16\n",
      "17\n",
      "Fizz\n",
      "19\n",
      "FizzBuzz\n",
      "Fizz\n",
      "22\n",
      "23\n",
      "Fizz\n",
      "FizzBuzz\n",
      "26\n",
      "Fizz\n",
      "28\n",
      "29\n",
      "Fizz\n"
     ]
    }
   ],
   "source": [
    "# Whiteboard Question\n",
    "#Return an array containing the numbers from 1 to N, where N is the parametered value.\n",
    "\n",
    "#Replace certain values however if any of the following conditions are met:\n",
    "\n",
    "    #If the value is a multiple of 3: use the value \"Fizz\" instead\n",
    "    #If the value is a multiple of 5: use the value \"Buzz\" instead\n",
    "    #If the value is a multiple of 3 & 5: use the value \"FizzBuzz\" instead\n",
    "\n",
    "#N will never be less than 1.\n",
    "\n",
    "#Method calling example:\n",
    "\n",
    "\n",
    "def print_nums(n):\n",
    "    num_list = range(1,n+1) #have to declare the variable n\n",
    "    for num in num_list:\n",
    "        \n",
    "        if num % 3 and num % 5 == 0:\n",
    "            print(\"FizzBuzz\")\n",
    "        elif num % 3 == 0:\n",
    "            print(\"Fizz\")\n",
    "        elif num % 5 == 0:\n",
    "            print (\"Buzz\")\n",
    "        else:\n",
    "            print(num)\n",
    "            \n",
    "print_nums(30)"
   ]
  },
  {
   "cell_type": "code",
   "execution_count": null,
   "metadata": {},
   "outputs": [
    {
     "name": "stdout",
     "output_type": "stream",
     "text": [
      "egg was added to your cart\n"
     ]
    }
   ],
   "source": [
    "from IPython.display import clear_output\n",
    "\n",
    "# Create a global list to hold my cart items\n",
    "\n",
    "# Driver code, try to write to logic out first and build the foundation and then the little details after\n",
    "cart =[] #can make this to a class\n",
    "\n",
    "def show_cart():\n",
    "    clear_output()\n",
    "    print(\"Your cart contains:\")\n",
    "    for item in cart:\n",
    "        print(item)\n",
    "    if not cart:\n",
    "        print(\"Cart is empty\")\n",
    "        \n",
    "def add_item(item):\n",
    "    clear_output()\n",
    "    cart.append(item) #add item in\n",
    "    print(f\"{item} was added to your cart\")\n",
    "    \n",
    "def remove_item(item):\n",
    "    clear_output()\n",
    "    cart.remove(item)\n",
    "    print(f\"{item} was remove from your cart\")\n",
    "    \n",
    "def clear_cart(item):\n",
    "    clear_output()\n",
    "    cart.clear()\n",
    "    print(\"Your cart is empty\")\n",
    "\n",
    "def shopping_cart(): # can make another class\n",
    "    while True:\n",
    "        response = input(\"What would you like to do? you can: quit/ add/ remove/ show or clear\\n Choose onle one\")\n",
    "        if response.lower() == \"quit\":\n",
    "            show_cart()\n",
    "            print(\"Thanks for shopping\")\n",
    "            break\n",
    "        elif response.lower() == \"add\":\n",
    "            item = input(\"What would you like to add\")\n",
    "            add_item(item)\n",
    "        elif response.lower() == \"remove\":\n",
    "            item = input(\"What would you like to remove\")\n",
    "            remove_item(item)\n",
    "        elif response.lower() == \"show\":\n",
    "            show_cart()\n",
    "        elif response.lower() == \"clear\":\n",
    "            clear_cart()\n",
    "        else:\n",
    "            print(\"Invalid option. Try again!\")\n",
    "            \n",
    "shopping_cart()"
   ]
  },
  {
   "cell_type": "code",
   "execution_count": null,
   "metadata": {},
   "outputs": [],
   "source": [
    "# Circumfrance of a cirle\n"
   ]
  },
  {
   "cell_type": "markdown",
   "metadata": {},
   "source": [
    "## Creating a Class (Initializing/Declaring)\n",
    "<p>When creating a class, function, or even a variable you are initializing that object. Initializing and Declaring occur at the same time in Python, whereas in lower level languages you have to declare an object before initializing it. This is the first step in the process of using a class.</p>"
   ]
  },
  {
   "cell_type": "code",
   "execution_count": 8,
   "metadata": {},
   "outputs": [],
   "source": [
    "class Car(): #PascalCase first letter of everyword is capital and no spaces\n",
    "    wheels = 4\n",
    "    color =\"blue\""
   ]
  },
  {
   "cell_type": "code",
   "execution_count": 6,
   "metadata": {},
   "outputs": [
    {
     "data": {
      "text/plain": [
       "3.141592653589793"
      ]
     },
     "execution_count": 6,
     "metadata": {},
     "output_type": "execute_result"
    }
   ],
   "source": [
    "import math\n",
    "math.pi"
   ]
  },
  {
   "cell_type": "markdown",
   "metadata": {},
   "source": [
    "## Using a Class (Instantiating)\n",
    "<p>The process of creating a class is called <i>Instantiating</i>. Each time you create a variable of that type of class, it is referred to as an <i>Instance</i> of that class. This is the second step in the process of using a class.</p>"
   ]
  },
  {
   "cell_type": "markdown",
   "metadata": {},
   "source": [
    "##### Creating One Instance"
   ]
  },
  {
   "cell_type": "code",
   "execution_count": 11,
   "metadata": {},
   "outputs": [],
   "source": [
    "ford = Car() #this a variable holding an INSTANCES of a class"
   ]
  },
  {
   "cell_type": "markdown",
   "metadata": {},
   "source": [
    "##### Creating Multiple Instances"
   ]
  },
  {
   "cell_type": "code",
   "execution_count": 13,
   "metadata": {},
   "outputs": [
    {
     "name": "stdout",
     "output_type": "stream",
     "text": [
      "4\n",
      "4\n",
      "blue\n",
      "blue\n"
     ]
    }
   ],
   "source": [
    "chevy = Car()\n",
    "honda = Car()\n",
    "porsche = Car()\n",
    "print(ford.wheels)\n",
    "print(chevy.wheels)\n",
    "print(ford.color)\n",
    "print(honda.color)"
   ]
  },
  {
   "cell_type": "markdown",
   "metadata": {},
   "source": [
    "##### In-Class Exercise #1 - Create a Class 'Car' and Instantiate three different makes of cars"
   ]
  },
  {
   "cell_type": "code",
   "execution_count": 15,
   "metadata": {},
   "outputs": [
    {
     "name": "stdout",
     "output_type": "stream",
     "text": [
      "6\n",
      "4\n",
      "spacewhite\n",
      "midnight\n"
     ]
    },
    {
     "data": {
      "text/plain": [
       "True"
      ]
     },
     "execution_count": 15,
     "metadata": {},
     "output_type": "execute_result"
    }
   ],
   "source": [
    "class Car1():\n",
    "    sedanwheels = 4\n",
    "    truckwheels = 6\n",
    "    sedancolor = \"midnight\"\n",
    "    truckcolor = \"spacewhite\"\n",
    "    \n",
    "tesla = Car1()\n",
    "lambo = Car1()\n",
    "toyota = Car1()\n",
    "hyundai = Car1()\n",
    "\n",
    "print(tesla.truckwheels)\n",
    "print(lambo.sedanwheels)\n",
    "print(tesla.truckcolor)\n",
    "print(lambo.sedancolor)\n",
    "\n",
    "\n",
    "class Car2():\n",
    "    doors = 4\n",
    "    color = \"red\"\n",
    "    wheels = 4\n",
    "    has_sun_roof = True\n",
    "    \n",
    "maz = Car2()\n",
    "bently = Car2()\n",
    "fer = Car2()\n",
    "\n",
    "fer.has_sun_roof"
   ]
  },
  {
   "cell_type": "markdown",
   "metadata": {},
   "source": [
    "## The \\__init\\__() Method <br>\n",
    "<p>This method is used in almost every created class, and called only once upon the creation of the class instance. This method will initialize all variables needed for the object.</p>"
   ]
  },
  {
   "cell_type": "code",
   "execution_count": 25,
   "metadata": {},
   "outputs": [
    {
     "name": "stdout",
     "output_type": "stream",
     "text": [
      "4.7L\n",
      "4.7L\n",
      "4\n"
     ]
    },
    {
     "ename": "AttributeError",
     "evalue": "type object 'Car' has no attribute 'wheels'",
     "output_type": "error",
     "traceback": [
      "\u001b[1;31m---------------------------------------------------------------------------\u001b[0m",
      "\u001b[1;31mAttributeError\u001b[0m                            Traceback (most recent call last)",
      "\u001b[1;32m<ipython-input-25-85d74c29df48>\u001b[0m in \u001b[0;36m<module>\u001b[1;34m\u001b[0m\n\u001b[0;32m      8\u001b[0m \u001b[0mprint\u001b[0m\u001b[1;33m(\u001b[0m\u001b[0mCar\u001b[0m\u001b[1;33m.\u001b[0m\u001b[0mengine\u001b[0m\u001b[1;33m)\u001b[0m \u001b[1;31m#the capital letter make use know that we talking about the class\u001b[0m\u001b[1;33m\u001b[0m\u001b[1;33m\u001b[0m\u001b[0m\n\u001b[0;32m      9\u001b[0m \u001b[0mprint\u001b[0m\u001b[1;33m(\u001b[0m\u001b[0mford\u001b[0m\u001b[1;33m.\u001b[0m\u001b[0mwheels\u001b[0m\u001b[1;33m)\u001b[0m \u001b[1;31m#has acces to the Class and Instance attributes/methods\u001b[0m\u001b[1;33m\u001b[0m\u001b[1;33m\u001b[0m\u001b[0m\n\u001b[1;32m---> 10\u001b[1;33m \u001b[0mprint\u001b[0m\u001b[1;33m(\u001b[0m\u001b[0mCar\u001b[0m\u001b[1;33m.\u001b[0m\u001b[0mwheels\u001b[0m\u001b[1;33m)\u001b[0m\u001b[1;31m# class Car only has access to the class atrributes/methods\u001b[0m\u001b[1;33m\u001b[0m\u001b[1;33m\u001b[0m\u001b[0m\n\u001b[0m\u001b[0;32m     11\u001b[0m \u001b[0mprint\u001b[0m\u001b[1;33m(\u001b[0m\u001b[0mford\u001b[0m\u001b[1;33m.\u001b[0m\u001b[0mx\u001b[0m\u001b[1;33m)\u001b[0m\u001b[1;33m\u001b[0m\u001b[1;33m\u001b[0m\u001b[0m\n",
      "\u001b[1;31mAttributeError\u001b[0m: type object 'Car' has no attribute 'wheels'"
     ]
    }
   ],
   "source": [
    "class Car():\n",
    "    engine =\"4.7L\" # Class attribute\n",
    "    #Constructor\n",
    "    def __init__(self, num_of_wheels):\n",
    "        self.wheels = num_of_wheels #the word self refers to the actual instance\n",
    "ford = Car(4)\n",
    "print(ford.engine)\n",
    "print(Car.engine) #the capital letter make use know that we talking about the class\n",
    "print(ford.wheels) #has acces to the Class and Instance attributes/methods\n",
    "print(Car.wheels)# class Car only has access to the class atrributes/methods\n",
    "print(ford.x)"
   ]
  },
  {
   "cell_type": "markdown",
   "metadata": {},
   "source": [
    "##### The 'self' Attribute <br>\n",
    "<p>This attribute is required to keep track of specific instance's attributes. Without the self attribute, the program would not know how to reference or keep track of an instance's attributes.</p>"
   ]
  },
  {
   "cell_type": "code",
   "execution_count": null,
   "metadata": {},
   "outputs": [],
   "source": [
    "# see above"
   ]
  },
  {
   "cell_type": "markdown",
   "metadata": {},
   "source": [
    "## Class Attributes <br>\n",
    "<p>While variables are inside of a class, they are referred to as attributes and not variables. When someone says 'attribute' you know they're speaking about a class. Attributes can be initialized through the init method, or outside of it.</p>"
   ]
  },
  {
   "cell_type": "markdown",
   "metadata": {},
   "source": [
    "##### Initializing Attributes"
   ]
  },
  {
   "cell_type": "code",
   "execution_count": null,
   "metadata": {},
   "outputs": [],
   "source": [
    "# see above"
   ]
  },
  {
   "cell_type": "markdown",
   "metadata": {},
   "source": [
    "##### Accessing Class Attributes"
   ]
  },
  {
   "cell_type": "code",
   "execution_count": null,
   "metadata": {
    "scrolled": true
   },
   "outputs": [],
   "source": [
    "# See Above"
   ]
  },
  {
   "cell_type": "markdown",
   "metadata": {},
   "source": [
    "##### Setting Defaults for Attributes"
   ]
  },
  {
   "cell_type": "code",
   "execution_count": 28,
   "metadata": {},
   "outputs": [
    {
     "name": "stdout",
     "output_type": "stream",
     "text": [
      "Honda had 4 wheels and is Blue\n",
      "jeep had 8 wheels and is Green\n"
     ]
    }
   ],
   "source": [
    "class Car():\n",
    "    engine = \"4.7L\"\n",
    "    def __init__(self, wheels, color=\"Blue\"):\n",
    "        self.wheels = wheels\n",
    "        self.color = color\n",
    "\n",
    "honda = Car(4)\n",
    "jeep = Car(8, \"Green\")\n",
    "\n",
    "print(f\"Honda had {honda.wheels} wheels and is {honda.color}\")\n",
    "print(f\"jeep had {jeep.wheels} wheels and is {jeep.color}\")"
   ]
  },
  {
   "cell_type": "markdown",
   "metadata": {},
   "source": [
    "##### Changing Class Attributes <br>\n",
    "<p>Keep in mind there are global class attributes and then there are attributes only available to each class instance which won't effect other classes.</p>"
   ]
  },
  {
   "cell_type": "code",
   "execution_count": 29,
   "metadata": {},
   "outputs": [
    {
     "data": {
      "text/plain": [
       "'4.7L'"
      ]
     },
     "execution_count": 29,
     "metadata": {},
     "output_type": "execute_result"
    }
   ],
   "source": [
    "Car.engine"
   ]
  },
  {
   "cell_type": "code",
   "execution_count": 30,
   "metadata": {},
   "outputs": [
    {
     "ename": "AttributeError",
     "evalue": "type object 'Car' has no attribute 'color'",
     "output_type": "error",
     "traceback": [
      "\u001b[1;31m---------------------------------------------------------------------------\u001b[0m",
      "\u001b[1;31mAttributeError\u001b[0m                            Traceback (most recent call last)",
      "\u001b[1;32m<ipython-input-30-15cae57b7d69>\u001b[0m in \u001b[0;36m<module>\u001b[1;34m\u001b[0m\n\u001b[1;32m----> 1\u001b[1;33m \u001b[0mCar\u001b[0m\u001b[1;33m.\u001b[0m\u001b[0mcolor\u001b[0m\u001b[1;33m\u001b[0m\u001b[1;33m\u001b[0m\u001b[0m\n\u001b[0m",
      "\u001b[1;31mAttributeError\u001b[0m: type object 'Car' has no attribute 'color'"
     ]
    }
   ],
   "source": [
    "Car.color #error because color is a class attribute"
   ]
  },
  {
   "cell_type": "markdown",
   "metadata": {},
   "source": [
    "##### In-Class Exercise #2 - Add a doors and seats attribute to your 'Car' class then print out two different instances with different doors and seats"
   ]
  },
  {
   "cell_type": "code",
   "execution_count": 32,
   "metadata": {},
   "outputs": [
    {
     "name": "stdout",
     "output_type": "stream",
     "text": [
      "honda had 4 seats and had 2 doors\n",
      "gmc had5 seats and had 4 doors\n"
     ]
    }
   ],
   "source": [
    "class Car():\n",
    "    engine=\"4.7\"\n",
    "    def __init__(self, seats, doors):\n",
    "        self.seats = seats\n",
    "        self.doors = doors\n",
    "honda = Car(4,2)\n",
    "gmc = Car(5,4)\n",
    "\n",
    "print(f'honda had {honda.seats} seats and had {honda.doors} doors')\n",
    "print(f'gmc had{gmc.seats} seats and had {gmc.doors} doors')"
   ]
  },
  {
   "cell_type": "markdown",
   "metadata": {},
   "source": [
    "## Instance Methods <br>\n",
    "<p>While inside of a class, functions are referred to as 'methods'. If you hear someone mention methods, they're speaking about classes. Methods are essentially functions, but only callable on the instances of a class.</p>"
   ]
  },
  {
   "cell_type": "markdown",
   "metadata": {},
   "source": [
    "##### Creating"
   ]
  },
  {
   "cell_type": "code",
   "execution_count": 33,
   "metadata": {},
   "outputs": [],
   "source": [
    "class Car():\n",
    "    def __init__(self, wheels, color, seats):\n",
    "        self.wheels = wheels\n",
    "        self.color = color\n",
    "        self.seats = seats\n",
    "        \n",
    "    def drive(self):\n",
    "        print(\"VRRROOOMMM!!!!!\")\n",
    "    \n",
    "    def set_color(self, new_color):\n",
    "        self.color = new_color\n",
    "        \n",
    "    def describe(self):\n",
    "        print(f\"the car is {self.color} with {self.seats} seats and {self.wheels} wheels\")\n",
    "    \n",
    "    def add_seats(self):\n",
    "        self.seats +=1\n",
    "    "
   ]
  },
  {
   "cell_type": "markdown",
   "metadata": {},
   "source": [
    "##### Calling"
   ]
  },
  {
   "cell_type": "code",
   "execution_count": 42,
   "metadata": {},
   "outputs": [
    {
     "name": "stdout",
     "output_type": "stream",
     "text": [
      "VRRROOOMMM!!!!!\n",
      "the car is red with 8 seats and 4 wheels\n",
      "the car is green with 8 seats and 4 wheels\n",
      "the car is green with 9 seats and 4 wheels\n",
      "the car is green with 9 seats and 4 wheels\n"
     ]
    },
    {
     "ename": "TypeError",
     "evalue": "describe() missing 1 required positional argument: 'self'",
     "output_type": "error",
     "traceback": [
      "\u001b[1;31m---------------------------------------------------------------------------\u001b[0m",
      "\u001b[1;31mTypeError\u001b[0m                                 Traceback (most recent call last)",
      "\u001b[1;32m<ipython-input-42-cad85aad10e9>\u001b[0m in \u001b[0;36m<module>\u001b[1;34m\u001b[0m\n\u001b[0;32m      8\u001b[0m \u001b[1;33m\u001b[0m\u001b[0m\n\u001b[0;32m      9\u001b[0m \u001b[0mCar\u001b[0m\u001b[1;33m.\u001b[0m\u001b[0mdescribe\u001b[0m\u001b[1;33m(\u001b[0m\u001b[0mchevy\u001b[0m\u001b[1;33m)\u001b[0m\u001b[1;33m\u001b[0m\u001b[1;33m\u001b[0m\u001b[0m\n\u001b[1;32m---> 10\u001b[1;33m \u001b[0mCar\u001b[0m\u001b[1;33m.\u001b[0m\u001b[0mdescribe\u001b[0m\u001b[1;33m(\u001b[0m\u001b[1;33m)\u001b[0m\u001b[1;33m\u001b[0m\u001b[1;33m\u001b[0m\u001b[0m\n\u001b[0m",
      "\u001b[1;31mTypeError\u001b[0m: describe() missing 1 required positional argument: 'self'"
     ]
    }
   ],
   "source": [
    "chevy = Car(4, \"red\", 8)\n",
    "chevy.drive()\n",
    "chevy.describe()\n",
    "chevy.set_color(\"green\") #modifying an attributes\n",
    "chevy.describe()\n",
    "chevy.add_seats()#incrementing an attributes\n",
    "chevy.describe()\n",
    "\n",
    "Car.describe(chevy)# passing in the instance\n",
    "Car.describe()# Error describe does not work on a class it is a Instance Method"
   ]
  },
  {
   "cell_type": "code",
   "execution_count": 43,
   "metadata": {},
   "outputs": [
    {
     "name": "stdout",
     "output_type": "stream",
     "text": [
      "VRRROOOMMM!!!!!\n",
      "the car is blue with 2 seats and 2 wheels\n"
     ]
    }
   ],
   "source": [
    "honda = Car(2, \"blue\", 2)\n",
    "honda.drive()\n",
    "honda.describe()"
   ]
  },
  {
   "cell_type": "markdown",
   "metadata": {},
   "source": [
    "##### Modifying an Attribute's Value Through a Method"
   ]
  },
  {
   "cell_type": "code",
   "execution_count": null,
   "metadata": {},
   "outputs": [],
   "source": []
  },
  {
   "cell_type": "markdown",
   "metadata": {},
   "source": [
    "##### Incrementing an Attribute's Value Through a Method"
   ]
  },
  {
   "cell_type": "code",
   "execution_count": null,
   "metadata": {},
   "outputs": [],
   "source": []
  },
  {
   "cell_type": "markdown",
   "metadata": {},
   "source": [
    "##### In-Class Exercise #3 - Add a method that takes in three parameters of year, doors and seats and prints out a formatted print statement with make, model, year, seats, and doors"
   ]
  },
  {
   "cell_type": "code",
   "execution_count": 98,
   "metadata": {},
   "outputs": [
    {
     "name": "stdout",
     "output_type": "stream",
     "text": [
      "This car is a 2019 and is a Toyota Tundra and has 4 doors and 6 seats\n",
      "This car is a 2019 and is a Ford Explorer and has 2 doors and 8 seats\n",
      "Toyota Tundra is Better than Ford Explorer\n",
      "Ford Explorer is Worse than Toyota Tundra\n"
     ]
    }
   ],
   "source": [
    "class Car():\n",
    "    def __init__(self, make, model):\n",
    "        self.make = make\n",
    "        self.model = model\n",
    "        \n",
    "    def add_details(self, year, doors, seats):\n",
    "        self.year = year #if you don't have a default value for it then you need to add it in to the class\n",
    "        self.doors = doors\n",
    "        self.seats = seats\n",
    "        \n",
    "        \n",
    "    def describe(self):\n",
    "        print(f\"This car is a {self.year} and is a {self.make} {self.model} and has\\\n",
    " {self.doors} doors and {self.seats} seats\")\n",
    "    \n",
    "    def which_is_better(self, car):\n",
    "        if self.doors > car.doors:\n",
    "            print(f\"{self.make} {self.model} is Better than {car.make} {car.model}\")\n",
    "        else:\n",
    "            print(f\"{self.make} {self.model} is Worse than {car.make} {car.model}\")\n",
    "\n",
    "\n",
    "\n",
    "my_car = Car(\"Toyota\", \"Tundra\")\n",
    "my_car.add_details(2019, 4, 6)\n",
    "my_car.describe()\n",
    "\n",
    "your_car = Car(\"Ford\", \"Explorer\")\n",
    "your_car.add_details(2019,2,8)\n",
    "your_car.describe()\n",
    "\n",
    "my_car.which_is_better(your_car) # to compare \n",
    "your_car.which_is_better(my_car) # to compare"
   ]
  },
  {
   "cell_type": "code",
   "execution_count": 105,
   "metadata": {},
   "outputs": [
    {
     "name": "stdout",
     "output_type": "stream",
     "text": [
      "This car is a 2019 and is a Toyota Tundra and has 4 doors and 6 seats\n",
      "This car is a 2019 and is a Ford Explorer and has 2 doors and 8 seats\n",
      "Ford Explorer is Worse than Toyota Tundra\n",
      "Toyota Tundra is Better than Ford Explorer\n",
      "Toyota Tundra is Better than Ford Explorer\n"
     ]
    }
   ],
   "source": [
    "class Car():\n",
    "    def __init__(self, make, model):\n",
    "        self.make = make\n",
    "        self.model = model\n",
    "        \n",
    "    def add_details(self, year, doors, seats):\n",
    "        self.year = year #if you don't have a default value for it then you need to add it in to the class\n",
    "        self.doors = doors\n",
    "        self.seats = seats\n",
    "        \n",
    "        \n",
    "    def describe(self):\n",
    "        print(f\"This car is a {self.year} and is a {self.make} {self.model} and has\\\n",
    " {self.doors} doors and {self.seats} seats\")\n",
    "    \n",
    "    @classmethod # this is a classmethod\n",
    "    def which_is_better(cls, car1, car2):\n",
    "        if car1.doors > car2.doors:\n",
    "            print(f\"{car1.make} {car1.model} is Better than {car2.make} {car2.model}\")\n",
    "        else:\n",
    "            print(f\"{car1.make} {car1.model} is Worse than {car2.make} {car2.model}\")\n",
    "\n",
    "\n",
    "\n",
    "my_car = Car(\"Toyota\", \"Tundra\")\n",
    "my_car.add_details(2019, 4, 6)\n",
    "my_car.describe()\n",
    "\n",
    "your_car = Car(\"Ford\", \"Explorer\")\n",
    "your_car.add_details(2019,2,8)\n",
    "your_car.describe()\n",
    "\n",
    "\n",
    "Car.which_is_better(your_car,my_car)\n",
    "Car.which_is_better(my_car,your_car)\n",
    "\n",
    "my_car.which_is_better(my_car, your_car)"
   ]
  },
  {
   "cell_type": "markdown",
   "metadata": {},
   "source": [
    "## Inheritance <br>\n",
    "<p>You can create a child-parent relationship between two classes by using inheritance. What this allows you to do is have overriding methods, but also inherit traits from the parent class. Think of it as an actual parent and child, the child will inherit the parent's genes, as will the classes in OOP</p>"
   ]
  },
  {
   "cell_type": "markdown",
   "metadata": {},
   "source": [
    "##### Syntax for Inheriting from a Parent Class"
   ]
  },
  {
   "cell_type": "code",
   "execution_count": 12,
   "metadata": {},
   "outputs": [
    {
     "name": "stdout",
     "output_type": "stream",
     "text": [
      "The dog has 15 mph and 9.8 m/s^2\n",
      "BARRKKK!!!\n",
      "galloping\n"
     ]
    },
    {
     "data": {
      "text/plain": [
       "True"
      ]
     },
     "execution_count": 12,
     "metadata": {},
     "output_type": "execute_result"
    }
   ],
   "source": [
    "# Parent Class\n",
    "class Animal():\n",
    "    acc = 9.8\n",
    "    def __init__(self, name, species, legs=4):\n",
    "        self.name = name\n",
    "        self.species = species\n",
    "        self.legs = legs\n",
    "        \n",
    "    def speak(self):\n",
    "        print(\"Some Generic Animal Sound\")\n",
    "        \n",
    "    def run(self):\n",
    "        print(\"galloping\")\n",
    "        \n",
    "# Child Class - to Inherit will need to put in the parent class in the parenthesis of the child\n",
    "#can add multiple parent with a comma\n",
    "class Dog(Animal):\n",
    "    speed = 15\n",
    "    \n",
    "    def __init__(self, is_house_trained, name, species, legs=4):\n",
    "        #super contructor will call the parent class and pass the attributes from parent to child class \n",
    "        super().__init__(name, species, legs)\n",
    "        self.is_house_trained = is_house_trained\n",
    "    \n",
    "    def describe(self):\n",
    "        print(f'The dog has {self.speed} mph and {self.acc} m/s^2')\n",
    "        \n",
    "    #Over write the parent method\n",
    "    def speak(self):\n",
    "        print(\"BARRKKK!!!\")\n",
    "        \n",
    "generic_animal = Animal(\"generic\", \"animal\")\n",
    "generic_animal.legs\n",
    "\n",
    "lassie = Dog(True, \"Lassie\", \"Dog\")\n",
    "lassie.describe()\n",
    "lassie.speak()\n",
    "lassie.run()\n",
    "lassie.species\n",
    "lassie.is_house_trained"
   ]
  },
  {
   "cell_type": "markdown",
   "metadata": {},
   "source": [
    "##### The \\__init\\__() Method for a Child Class - super()"
   ]
  },
  {
   "cell_type": "code",
   "execution_count": 9,
   "metadata": {
    "scrolled": true
   },
   "outputs": [
    {
     "data": {
      "text/plain": [
       "True"
      ]
     },
     "execution_count": 9,
     "metadata": {},
     "output_type": "execute_result"
    }
   ],
   "source": [
    "isinstance(lassie,Dog)\n",
    "isinstance(lassie,Animal)"
   ]
  },
  {
   "cell_type": "code",
   "execution_count": 15,
   "metadata": {},
   "outputs": [
    {
     "name": "stdout",
     "output_type": "stream",
     "text": [
      "the mutt is a mix of Black Lab and pointer\n"
     ]
    }
   ],
   "source": [
    "#Grandchild of Animal and Child of Dog\n",
    "\n",
    "class Mutt(Dog):\n",
    "    def __init__(self, second_species, is_house_trained, name, species, legs=4):\n",
    "        super().__init__(is_house_trained, name, species, legs)\n",
    "        self.second_species = second_species\n",
    "        \n",
    "    def describe(self):\n",
    "        print(f'the mutt is a mix of {self.species} and {self.second_species}')\n",
    "        \n",
    "nala = Mutt(\"pointer\", True, \"Nala\", \"Black Lab\")\n",
    "nala.describe()"
   ]
  },
  {
   "cell_type": "markdown",
   "metadata": {},
   "source": [
    "##### Defining Attributes and Methods for the Child Class"
   ]
  },
  {
   "cell_type": "code",
   "execution_count": null,
   "metadata": {},
   "outputs": [],
   "source": [
    "# See Above"
   ]
  },
  {
   "cell_type": "markdown",
   "metadata": {},
   "source": [
    "##### Method Overriding"
   ]
  },
  {
   "cell_type": "code",
   "execution_count": null,
   "metadata": {},
   "outputs": [],
   "source": [
    "# See Above\n"
   ]
  },
  {
   "cell_type": "markdown",
   "metadata": {},
   "source": [
    "## Classes as Attributes <br>\n",
    "<p>Classes can also be used as attributes within another class. This is useful in situations where you need to keep variables locally stored, instead of globally stored.</p>"
   ]
  },
  {
   "cell_type": "code",
   "execution_count": 30,
   "metadata": {},
   "outputs": [
    {
     "name": "stdout",
     "output_type": "stream",
     "text": [
      "recharging\n",
      "20\n",
      "2020 Tesla 7.8 20\n",
      "<class '__main__.ElectricCar'>\n",
      "<class '__main__.Battery'>\n",
      "recharging\n"
     ]
    }
   ],
   "source": [
    "#making a class inside a class\n",
    "class ElectricCar():\n",
    "    def __init__(self, year, make, a_battery):\n",
    "        self.year = year\n",
    "        self.make = make\n",
    "        self.battery = a_battery\n",
    "        \n",
    "    def describe(self):\n",
    "        print(self.year, self.make, self.battery.volts, self.battery.cells) #to describe the battery class\n",
    "        \n",
    "class Battery():\n",
    "    volts = 7.8\n",
    "    def __init__(self,cells):\n",
    "        self.cells = cells\n",
    "        self.time = 6\n",
    "        self.var = \"my battery\"\n",
    "        \n",
    "    def recharge(self):\n",
    "        print(\"recharging\")\n",
    "        \n",
    "my_battery = Battery(20)\n",
    "my_battery.recharge()\n",
    "\n",
    "print(my_battery.cells)\n",
    "\n",
    "my_car = ElectricCar(2020, \"Tesla\", my_battery)\n",
    "\n",
    "my_car.describe()\n",
    "print(type(my_car))\n",
    "print(type(my_car.battery))\n",
    "my_car.battery.recharge()"
   ]
  },
  {
   "cell_type": "code",
   "execution_count": 41,
   "metadata": {},
   "outputs": [
    {
     "name": "stdout",
     "output_type": "stream",
     "text": [
      "What do you want to do? Run or Rant? Quit to Quitrun\n",
      "Tate says Huff and Puff boy I am out of shape\n",
      "What do you want to do? Run or Rant? Quit to Quitrant\n",
      "What do you want to do? Run or Rant? Quit to Quitquit\n"
     ]
    }
   ],
   "source": [
    "#Close to hw\n",
    "\n",
    "class UI():\n",
    "    def __init__(self, person):\n",
    "        self.person = person\n",
    "        \n",
    "    def run_program(self): #if there was a parameter in there would need to put it in when called upon\n",
    "        while True:\n",
    "            response = input(\"What do you want to do? Run or Rant? Quit to Quit\")\n",
    "            \n",
    "            if response.lower() == \"quit\":\n",
    "                break\n",
    "                \n",
    "            elif response.lower() == \"run\":\n",
    "                self.person.run()\n",
    "                \n",
    "            elif response.lower() == \"rant\":\n",
    "                self.person.rant\n",
    "                \n",
    "    \n",
    "class Person():\n",
    "    def __init__(self, name, age):\n",
    "        self.name = name\n",
    "        self.age = age\n",
    "    \n",
    "    def run(self):\n",
    "        print(f\"{self.name} says Huff and Puff boy I am out of shape\")\n",
    "    \n",
    "    def rant(self):\n",
    "        print(f\"{self.name} says Epistien didn't kill himself!\")\n",
    "        \n",
    "tate = Person(\"Tate\", 5)\n",
    "ui = UI(tate)\n",
    "ui.run_program() #empty because there was no parameters on line 5 of the run_program"
   ]
  },
  {
   "cell_type": "markdown",
   "metadata": {},
   "source": [
    "# Exercises"
   ]
  },
  {
   "cell_type": "markdown",
   "metadata": {},
   "source": [
    "### Exercise 1 - Turn the shopping cart program from yesterday into an object-oriented program"
   ]
  },
  {
   "cell_type": "code",
   "execution_count": null,
   "metadata": {},
   "outputs": [],
   "source": [
    "from IPython.display import clear_output\n",
    "\n",
    "# Create a Global list to hold my Cart Items\n",
    "cart = []\n",
    "\n",
    "def show_cart():\n",
    "    clear_output()\n",
    "    print(\"Your Cart Contains:\")\n",
    "    for item in cart:\n",
    "        print(item)\n",
    "    if not cart:\n",
    "        print(\"Cart is empty\")\n",
    "\n",
    "def add_item(item):\n",
    "    clear_output()\n",
    "    cart.append(item)\n",
    "    print(f\"{item} was added to your cart\")\n",
    "\n",
    "def remove_item(item):\n",
    "    clear_output()\n",
    "    cart.remove(item)\n",
    "    print(f\"{item} was removed from your cart\")\n",
    "\n",
    "def clear_cart():\n",
    "    clear_output()\n",
    "    cart.clear()\n",
    "    print(\"Your cart is empty\")\n",
    "\n",
    "# Driver Code\n",
    "def shopping_cart():\n",
    "    while True:\n",
    "        response = input(\"What would you like to do? you can: quit/ add/ remove/ show or clear \\n Choose only one \\n\")\n",
    "        if response.lower() == \"quit\":\n",
    "            show_cart()\n",
    "            print(\"Thanks for shopping\")\n",
    "            break\n",
    "        elif response.lower() == 'add':\n",
    "            item = input(\"What would you like to add?\")\n",
    "            add_item(item)\n",
    "        elif response.lower() == 'remove':\n",
    "            item = input(\"What would you like to remove?\")\n",
    "            remove_item(item)\n",
    "        elif response.lower() == 'show':\n",
    "            show_cart()\n",
    "        elif response.lower() == 'clear':\n",
    "            clear_cart()\n",
    "        else:\n",
    "            print(\"Invalid Option.  Try again!\")\n",
    "            \n",
    "\n",
    "shopping_cart()"
   ]
  },
  {
   "cell_type": "code",
   "execution_count": 32,
   "metadata": {},
   "outputs": [
    {
     "name": "stdout",
     "output_type": "stream",
     "text": [
      "Would you like to Add/Show/Remove/Quit?add\n",
      "What would you like to add ?eggs\n",
      "eggs was added to your cart\n",
      "Would you like to Add/Show/Remove/Quit?add\n",
      "What would you like to add ?ham\n",
      "ham was added to your cart\n",
      "Would you like to Add/Show/Remove/Quit?remove\n",
      "What would you like to remove ?ham\n",
      "hamCart is now empty\n",
      "Would you like to Add/Show/Remove/Quit?show\n",
      "eggs\n",
      "Would you like to Add/Show/Remove/Quit?quit\n",
      "eggs\n"
     ]
    }
   ],
   "source": [
    "# Create a class called cart that retains items and has methods to add, remove, and show\n",
    "class Shop():\n",
    "    def __init__(self):\n",
    "        self.cart = Cart()\n",
    "    \n",
    "    def cart_program(self):\n",
    "        while True:\n",
    "            response = input(\"Would you like to Add/Show/Remove/Quit?\")\n",
    "            \n",
    "            if response.lower() == \"quit\":\n",
    "                self.cart.get_show()\n",
    "                break\n",
    "        \n",
    "            elif response.lower() == \"add\":\n",
    "                item = input(\"What would you like to add ?\").strip()\n",
    "                self.cart.get_add(item)\n",
    "        \n",
    "            elif response.lower() == \"show\":\n",
    "                self.cart.get_show()\n",
    "            \n",
    "            elif response.lower() == 'remove':\n",
    "                item = input(\"What would you like to remove ?\").strip()\n",
    "                self.cart.get_remove(item)\n",
    "            \n",
    "class Cart():\n",
    "    def __init__(self):\n",
    "        self.cart = []\n",
    "    \n",
    "    def get_add(self, item):\n",
    "        self.cart.append(item) \n",
    "        print(f\"{item} was added to your cart\")\n",
    "    \n",
    "    def get_show(self):\n",
    "        for item in self.cart:\n",
    "            print(item)\n",
    "        if not self.cart:\n",
    "            print(\"Your cart is empty\")   \n",
    "  \n",
    "    def get_remove(self, item):\n",
    "        self.cart.remove(item)\n",
    "        print(f\"{item}Cart is now empty\")\n",
    "\n",
    "shop_mart = Shop()        \n",
    "shop_mart.cart_program()"
   ]
  },
  {
   "cell_type": "markdown",
   "metadata": {},
   "source": [
    "### Exercise 2 - Write a Python class which has two methods get_String and print_String. get_String accept a string from the user and print_String print the string in upper case"
   ]
  },
  {
   "cell_type": "code",
   "execution_count": null,
   "metadata": {},
   "outputs": [],
   "source": [
    "class Exercise2():\n",
    "    def __init__(self):\n",
    "        self.string = \"\"\n",
    "    \n",
    "    def get_string(self):\n",
    "        self.string = input() # to have the user type in the space\n",
    "        \n",
    "    def print_string(self):\n",
    "        print(self.string.upper()) # print out whatever the user is typing but in capital letters\n",
    "\n",
    "string = Exercise2() # adding the variable in and defining string\n",
    "string.get_string()\n",
    "string.print_string()\n",
    "\n",
    "\n",
    "\n",
    "\n",
    "\n",
    "\n",
    "\n",
    "\n",
    "\n"
   ]
  },
  {
   "cell_type": "code",
   "execution_count": null,
   "metadata": {},
   "outputs": [],
   "source": []
  },
  {
   "cell_type": "code",
   "execution_count": null,
   "metadata": {},
   "outputs": [],
   "source": []
  }
 ],
 "metadata": {
  "kernelspec": {
   "display_name": "Python 3",
   "language": "python",
   "name": "python3"
  },
  "language_info": {
   "codemirror_mode": {
    "name": "ipython",
    "version": 3
   },
   "file_extension": ".py",
   "mimetype": "text/x-python",
   "name": "python",
   "nbconvert_exporter": "python",
   "pygments_lexer": "ipython3",
   "version": "3.8.5"
  }
 },
 "nbformat": 4,
 "nbformat_minor": 2
}
